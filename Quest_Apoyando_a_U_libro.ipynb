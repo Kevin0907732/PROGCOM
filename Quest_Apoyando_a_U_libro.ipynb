{
  "nbformat": 4,
  "nbformat_minor": 0,
  "metadata": {
    "colab": {
      "provenance": []
    },
    "kernelspec": {
      "name": "python3",
      "display_name": "Python 3"
    },
    "language_info": {
      "name": "python"
    }
  },
  "cells": [
    {
      "cell_type": "markdown",
      "source": [],
      "metadata": {
        "id": "f4zN0MFGRxnj"
      }
    },
    {
      "cell_type": "markdown",
      "source": [
        "#1. 5 libros sobre analítica de datos\n",
        "[https://docs.google.com/document/d/1UZnd3uCPtyT9_336UiJOsGerff-31W9MuaLFM5rH8_I/edit?usp=sharing](https://)\n",
        "\n",
        "#2. 5 Libros sobre Inteligencia Artificial\n",
        "[https://docs.google.com/document/d/1kUFmNYqkTOIOr3g0o6lJqveMfyTiwmKXUReDKoW0rTE/edit?usp=sharing](https://)\n",
        "\n",
        "#3.Conferencia sobre el uso de la tecnología\n",
        "\n",
        "La conferencia a la que aisti trataba sobre el uso e impacto de las redes sociales en los jóvenes, los 3 puntos claves de la conferencia fueron:\n",
        "##- Barreras en el conocimiento científico\n",
        "En esta parte de la conferencia se habló sobre las dificultades que hay para llevar conocimiento a los jóvenes a través de estos medios en palabras simples, debido a que los jóvenes en redes sociales no se suelen dar el tiempo de ver vídeos muy largos o leer mucho\n",
        "\n",
        "##- Inclusión y tendencias\n",
        "También se habló sobre cómo las redes sociales facilitan llevar a todos nuevas ideologías de inclusión y respeto, sin embargo también se habló de como esto puede ser un arma de doble filo para la desinformación.\n",
        "\n",
        "##- Comunidades nicho\n",
        "En esta sección se habló de la existencia de grupos de personas pequeños con gustos específicos en redes sociales e internet, grupos que no suelen tener mucha difusión debido a que su contenido no es atractivo para todo el mundo o que como se mencionó antes al ser de carácter científico presenta dificultades para difundirse, por ejemplo la paleontología.\n",
        "\n",
        "##Biografía del orador\n",
        "David Vazquez Muriel, tiene un pregrado en biología e hizo una maestría en estudios sociales de la ciencia, se ha dedicado a la educación y comunicación de la ciencia en proyectos de investigación escolar, ferias de ciencia, proyectos de divulgación para niños y niñas, también se ha dedicado a la edición de revistas de esta índole, podcast y ha trabajado por 12 años en esto. Actualmente es coordinador de comunicación digital en el parque explora en Medellín, el cual es un museo de ciencias interactivo.\n",
        "\n",
        "##Evidencia fotográfica\n",
        "[https://docs.google.com/document/d/1FjlTOOMNTRw6FTqmhTkyYx5qkpn2RvqkCux7zaVG-3Q/edit?usp=sharing](https://)"
      ],
      "metadata": {
        "id": "ZBfIG6ZxNiI4"
      }
    }
  ]
}