{
  "nbformat": 4,
  "nbformat_minor": 0,
  "metadata": {
    "colab": {
      "provenance": []
    },
    "kernelspec": {
      "name": "python3",
      "display_name": "Python 3"
    },
    "language_info": {
      "name": "python"
    }
  },
  "cells": [
    {
      "cell_type": "markdown",
      "source": [
        "#Estructura de selección\n",
        "1. Si - sino: if - else\n",
        "2. Operador terniario\n",
        "3. Estructura switch\n",
        "-if/elif/else\n",
        "-match/case"
      ],
      "metadata": {
        "id": "nF4daW0WEMut"
      }
    },
    {
      "cell_type": "markdown",
      "source": [
        "#Ejemplos\n",
        "1. Dividir dos números siempre y cuando el denominador no sea 0\n",
        "2. Definir si un número es mayor que 5 y menor que que 1.5\n",
        "3. Definir si un numero es mayor que n y menor o igual que m\n",
        "4. Definir si una letra es m o no\n",
        "5. Verificar si un número es par o impar\n",
        "6. Decrementa en 1 unidad, si x es mayor que 5"
      ],
      "metadata": {
        "id": "JZAyg5saGswK"
      }
    },
    {
      "cell_type": "code",
      "source": [
        "#Ejercicio 1 Dividir dos números siempre y cuando el denominador no sea 0\n",
        "numerador=int(input(\"Ingrese el numerador\"))\n",
        "denominador=int(input(\"Ingrese el denominador\"))\n",
        "if denominador!=0:\n",
        " resultado=(numerador/denominador)\n",
        "print(\"El resultado es\", resultado)"
      ],
      "metadata": {
        "colab": {
          "base_uri": "https://localhost:8080/"
        },
        "id": "5CsSQ59nRBHQ",
        "outputId": "c3b73c33-2cc9-4154-d5b1-1b6388d0142e"
      },
      "execution_count": null,
      "outputs": [
        {
          "output_type": "stream",
          "name": "stdout",
          "text": [
            "Ingrese el numerador10\n",
            "Ingrese el denominador4\n",
            "El resultado es 2.5\n"
          ]
        }
      ]
    },
    {
      "cell_type": "code",
      "source": [
        "#Ejercicio 2 Definir si un número es mayor que 5 y menor que 15\n",
        "n1=int(input(\"Ingrese un número\"))\n",
        "if n1>5 and n1<15:\n",
        "  print(f\"El número {n1} es mayor que 5 y menor que 15\")\n",
        "else:\n",
        "  if n1>5: print(f\"El número {n1} es mayor que 5 pero no es menor que 15\")\n",
        "  else: print(f\"El número {n1} no es mayor que 5 pero es menor que 15\")"
      ],
      "metadata": {
        "colab": {
          "base_uri": "https://localhost:8080/"
        },
        "id": "N951UBsAS_ym",
        "outputId": "a9907471-7527-4c9f-b1c3-8bbfbc09bae2"
      },
      "execution_count": null,
      "outputs": [
        {
          "output_type": "stream",
          "name": "stdout",
          "text": [
            "Ingrese un número17\n",
            "El número 17 es mayor que 5 pero no es menor que 15\n"
          ]
        }
      ]
    },
    {
      "cell_type": "code",
      "source": [
        "#Ejercicio 3\n",
        "n=int(input(\"Ingrese un número\"))\n",
        "m=int(input(\"Ingrese otro número\"))"
      ],
      "metadata": {
        "colab": {
          "base_uri": "https://localhost:8080/"
        },
        "id": "ej5SehCWIfay",
        "outputId": "c0cb23c0-a4b7-4c08-d6c6-6c4db7b1918e"
      },
      "execution_count": null,
      "outputs": [
        {
          "name": "stdout",
          "output_type": "stream",
          "text": [
            "Ingrese un número8\n",
            "Ingrese otro número4\n"
          ]
        }
      ]
    },
    {
      "cell_type": "code",
      "source": [
        "#3\n",
        "x=int(input(\"Ingrese otro número\"))\n",
        "if x>n and x<=m:\n",
        "  print(f\"El número {x} es mayor que {n} y menor o igual que {m}\")\n",
        "else:\n",
        "  if x>n: print(f\"El número {x} mayor que {n} pero no es menor o igual que {m}\")\n",
        "  else: print (f\"El número {x} no es mayor que {n} pero es menor o igual que {m}\")"
      ],
      "metadata": {
        "colab": {
          "base_uri": "https://localhost:8080/"
        },
        "id": "YXkam9e8I6QB",
        "outputId": "134b7625-f4b5-4196-9b00-e7818367c2fe"
      },
      "execution_count": null,
      "outputs": [
        {
          "output_type": "stream",
          "name": "stdout",
          "text": [
            "Ingrese otro número5\n",
            "El número 5 es mayor que 8 pero no no es menor o igual que 4\n"
          ]
        }
      ]
    },
    {
      "cell_type": "code",
      "source": [
        "#Ejercicio 4 Definir si una letra es m o no. Modo profesional\n",
        "letra=input(\"Ingrese una letra: \").lower()\n",
        "if letra==\"m\":\n",
        "  print(\"Ingrese una m\")\n",
        "else: print(\"No ingresaste una m\")"
      ],
      "metadata": {
        "id": "nR56WB60PrXi"
      },
      "execution_count": null,
      "outputs": []
    },
    {
      "cell_type": "code",
      "source": [
        "#Ejercicio 5 Verificar si un numero es par o impar\n",
        "x=int(input(\"Ingrese un número\"))\n",
        "if x%2==0:\n",
        "  print(x, \"Es un número par\")\n",
        "else:\n",
        "  print(x, \"No es un número par\")"
      ],
      "metadata": {
        "colab": {
          "base_uri": "https://localhost:8080/"
        },
        "id": "HQFKP9b1Vu9U",
        "outputId": "305a2016-b723-4ea4-96ab-c6fe1ecad1ed"
      },
      "execution_count": null,
      "outputs": [
        {
          "output_type": "stream",
          "name": "stdout",
          "text": [
            "Ingrese un número3\n",
            "3 No es un número par\n"
          ]
        }
      ]
    },
    {
      "cell_type": "code",
      "source": [
        "#Ejercicio 6 Decrementa en 1 unidad, si x es mayor que 5\n",
        "numero=int(input(\"Ingrese un número: \"))\n",
        "if numero<5: print(f\"El nuevo número es {numero-1}\")\n",
        "else: print(\"Como el número no es menor que 5, se mantiene.\")"
      ],
      "metadata": {
        "colab": {
          "base_uri": "https://localhost:8080/"
        },
        "id": "78ecfFClQoJz",
        "outputId": "2ef85478-9769-4473-953f-0945bfcfe234"
      },
      "execution_count": null,
      "outputs": [
        {
          "output_type": "stream",
          "name": "stdout",
          "text": [
            "Ingrese un número: 7\n",
            "Como el número no es menor que 5, se mantiene.\n"
          ]
        }
      ]
    },
    {
      "cell_type": "markdown",
      "source": [
        "#Operador ternario"
      ],
      "metadata": {
        "id": "1aB8tiA7YsIi"
      }
    },
    {
      "cell_type": "code",
      "source": [
        "#Ejercicio 1 Dividir dos números siempre y cuando el denominador no sea 0\n",
        "numerador=int(input(\"Ingrese el numerador\"))\n",
        "denominador=int(input(\"Ingrese el denominador\"))\n",
        "if denominador!=0: resultado=(numerador/denominador)\n",
        "print(\"El resultado es\", resultado)"
      ],
      "metadata": {
        "colab": {
          "base_uri": "https://localhost:8080/"
        },
        "id": "BUOXhm5CYu4R",
        "outputId": "fe953500-c8a8-4cac-dc83-4554605b7fd3"
      },
      "execution_count": 28,
      "outputs": [
        {
          "output_type": "stream",
          "name": "stdout",
          "text": [
            "Ingrese el numerador12\n",
            "Ingrese el denominador2\n",
            "El resultado es 6.0\n"
          ]
        }
      ]
    },
    {
      "cell_type": "code",
      "source": [
        "#Con operador ternario\n",
        "print(f\"El resultado es {numerador/denominador}\") if denominador!=0 else print(\"No se puede realizar\")\n"
      ],
      "metadata": {
        "id": "XargNOtndh98",
        "outputId": "13504333-1e4c-4b03-b859-fe60d8dbe339",
        "colab": {
          "base_uri": "https://localhost:8080/"
        }
      },
      "execution_count": 29,
      "outputs": [
        {
          "output_type": "stream",
          "name": "stdout",
          "text": [
            "El resultado es 6.0\n"
          ]
        }
      ]
    },
    {
      "cell_type": "code",
      "source": [
        "#Ejercicio 2 Definir si un número es mayor que 5 y menor que 15\n",
        "n1=int(input(\"Ingrese un número\"))\n",
        "if n1>5 and n1<15:\n",
        "  print(f\"El número {n1} es mayor que 5 y menor que 15\")\n",
        "else:\n",
        "  if n1>5: print(f\"El número {n1} es mayor que 5 pero no es menor que 15\")\n",
        "  else: print(f\"El número {n1} no es mayor que 5 pero es menor que 15\")"
      ],
      "metadata": {
        "id": "RTsPhzm1fEpj",
        "outputId": "768c9b80-07ba-4313-addc-4c2994b4c8a0",
        "colab": {
          "base_uri": "https://localhost:8080/"
        }
      },
      "execution_count": 30,
      "outputs": [
        {
          "output_type": "stream",
          "name": "stdout",
          "text": [
            "Ingrese un número4\n",
            "El número 4 no es mayor que 5 pero es menor que 15\n"
          ]
        }
      ]
    },
    {
      "cell_type": "code",
      "source": [
        "#Con operador ternario\n",
        "e = print(f\"El número {n1} es mayor que 5, pero no es menor a 15\") if n1 > 5 else print(f\"El número {n1} es menor que 15, pero no es mayor que 5\")\n",
        "f = print(f\"El número {n1} es mayor que 5 y menor a 15\") if n1 > 5 and n1 < 15 else e"
      ],
      "metadata": {
        "id": "7w7V4odgfTBb",
        "outputId": "a78a8dfe-f3e1-476f-a76f-84e9feaee2da",
        "colab": {
          "base_uri": "https://localhost:8080/"
        }
      },
      "execution_count": 34,
      "outputs": [
        {
          "output_type": "stream",
          "name": "stdout",
          "text": [
            "El número 4 es menor que 15, pero no es mayor que 5\n"
          ]
        }
      ]
    },
    {
      "cell_type": "code",
      "source": [
        "#Ejercicio 3\n",
        "n=int(input(\"Ingrese un número\"))\n",
        "m=int(input(\"Ingrese otro número\"))\n",
        "x=int(input(\"Ingrese otro número\"))\n",
        "if x>n and x<=m:\n",
        "  print(f\"El número {x} es mayor que {n} y menor o igual que {m}\")\n",
        "else:\n",
        "  if x>n: print(f\"El número {x} mayor que {n} pero no es menor o igual que {m}\")\n",
        "  else: print (f\"El número {x} no es mayor que {n} pero es menor o igual que {m}\")"
      ],
      "metadata": {
        "id": "M6U96eoKh49g",
        "outputId": "545c6a92-5d46-4be6-b2ba-fb6b3f2a2fd9",
        "colab": {
          "base_uri": "https://localhost:8080/"
        }
      },
      "execution_count": 43,
      "outputs": [
        {
          "output_type": "stream",
          "name": "stdout",
          "text": [
            "Ingrese un número5\n",
            "Ingrese otro número8\n",
            "Ingrese otro número4\n",
            "El número 4 no es mayor que 5 pero es menor o igual que 8\n"
          ]
        }
      ]
    },
    {
      "cell_type": "code",
      "source": [
        "#Operador terniario\n",
        "b = print(f\"El número {x} es mayor que {n}, pero no es menor o igual que {m}\") if x>n else print(f\"El número {x} no es mayor que {n}, pero si es menor o igual que {m}\")\n",
        "print(f\"El número {x} es mayor que {n} y menor o igual que {m} \") if x>n and x<=m else b"
      ],
      "metadata": {
        "id": "z1NPi9SIiIRz",
        "outputId": "c638146a-9aab-480d-a7a7-0d35bdce6903",
        "colab": {
          "base_uri": "https://localhost:8080/"
        }
      },
      "execution_count": 44,
      "outputs": [
        {
          "output_type": "stream",
          "name": "stdout",
          "text": [
            "El número 4 no es mayor que 5, pero si es menor o igual que 8\n"
          ]
        }
      ]
    },
    {
      "cell_type": "code",
      "source": [
        "#Ejercicio 4 Definir si una letra es m o no. Modo profesional\n",
        "letra=input(\"Ingrese una letra: \").lower()\n",
        "if letra==\"m\":\n",
        "  print(\"Ingrese una m\")\n",
        "else: print(\"No ingresaste una m\")"
      ],
      "metadata": {
        "id": "mvYrzGAIc2KF",
        "outputId": "158eef9f-348c-4454-a700-06f0ee7ed562",
        "colab": {
          "base_uri": "https://localhost:8080/"
        }
      },
      "execution_count": 31,
      "outputs": [
        {
          "output_type": "stream",
          "name": "stdout",
          "text": [
            "Ingrese una letra: m\n",
            "Ingrese una m\n"
          ]
        }
      ]
    },
    {
      "cell_type": "code",
      "source": [
        "#Operador terniario\n",
        "b=\"Ingresaste una m\" if letra==\"m\" else \"No ingresaste una m\"\n",
        "print(b)"
      ],
      "metadata": {
        "id": "T3yWeo-Qgs-i",
        "outputId": "a83a3222-4a86-4a7e-988f-1200f4be43cd",
        "colab": {
          "base_uri": "https://localhost:8080/"
        }
      },
      "execution_count": 32,
      "outputs": [
        {
          "output_type": "stream",
          "name": "stdout",
          "text": [
            "Ingresaste una m\n"
          ]
        }
      ]
    },
    {
      "cell_type": "code",
      "source": [
        "#Ejercicio 5 Verificar si un numero es par o impar\n",
        "x=int(input(\"Ingrese un número\"))\n",
        "if x%2==0:\n",
        "  print(x, \"Es un número par\")\n",
        "else:\n",
        "  print(x, \"No es un número par\")"
      ],
      "metadata": {
        "id": "8qpNX7xwhO_g",
        "outputId": "d33fa22f-c554-4e6b-c8f7-7cf22cf3e16f",
        "colab": {
          "base_uri": "https://localhost:8080/"
        }
      },
      "execution_count": 38,
      "outputs": [
        {
          "output_type": "stream",
          "name": "stdout",
          "text": [
            "Ingrese un número5\n",
            "5 No es un número par\n"
          ]
        }
      ]
    },
    {
      "cell_type": "code",
      "source": [
        "#Operador ternario\n",
        "g = print(f\"El número {x} es par\") if numero % 2 == 0 else print(f\"El número {x} es impar\")"
      ],
      "metadata": {
        "id": "fBzwGB4yhK9J",
        "outputId": "fd8759ab-5291-4a69-ff84-1dd10bd83c1a",
        "colab": {
          "base_uri": "https://localhost:8080/"
        }
      },
      "execution_count": 39,
      "outputs": [
        {
          "output_type": "stream",
          "name": "stdout",
          "text": [
            "El número 5 es impar\n"
          ]
        }
      ]
    },
    {
      "cell_type": "code",
      "source": [
        "#Ejercicio 6 Decrementa en 1 unidad, si x es mayor que 5\n",
        "numero=int(input(\"Ingrese un número: \"))\n",
        "if numero<5: print(f\"El nuevo número es {numero-1}\")\n",
        "else: print(\"Como el número no es menor que 5, se mantiene.\")"
      ],
      "metadata": {
        "id": "F1KZUq3HhevS",
        "outputId": "2662fbbc-168e-43fd-c08a-e9fecf317dc5",
        "colab": {
          "base_uri": "https://localhost:8080/"
        }
      },
      "execution_count": 40,
      "outputs": [
        {
          "output_type": "stream",
          "name": "stdout",
          "text": [
            "Ingrese un número: 7\n",
            "Como el número no es menor que 5, se mantiene.\n"
          ]
        }
      ]
    },
    {
      "cell_type": "code",
      "source": [
        "#Operador terniario\n",
        "c= print(f\"El nuevo número es {numero-1}\") if numero<5 else print(f\"El nuevo número es {numero}\")"
      ],
      "metadata": {
        "id": "EMRmYxpohpOS",
        "outputId": "b4f33a7c-8495-4215-ae03-ee26a5e2a3a6",
        "colab": {
          "base_uri": "https://localhost:8080/"
        }
      },
      "execution_count": 41,
      "outputs": [
        {
          "output_type": "stream",
          "name": "stdout",
          "text": [
            "El nuevo número es 7\n"
          ]
        }
      ]
    }
  ]
}