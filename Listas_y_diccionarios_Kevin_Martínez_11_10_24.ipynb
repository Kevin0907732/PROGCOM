{
  "nbformat": 4,
  "nbformat_minor": 0,
  "metadata": {
    "colab": {
      "provenance": []
    },
    "kernelspec": {
      "name": "python3",
      "display_name": "Python 3"
    },
    "language_info": {
      "name": "python"
    }
  },
  "cells": [
    {
      "cell_type": "markdown",
      "source": [
        "##Listas y diccionarios. Kevin Martínez. 8/10/2024"
      ],
      "metadata": {
        "id": "vj8wybH6jEgl"
      }
    },
    {
      "cell_type": "markdown",
      "source": [
        "#####Listas:Una lista en Python es una estructura de datos que permite almacenar múltiples elementos en un solo lugar. Los elementos de una lista pueden ser de cualquier tipo de dato (enteros, cadenas, otros objetos, etc.), y las listas en Python son mutables, lo que significa que se pueden modificar después de haber sido creadas (agregar, eliminar o cambiar elementos).Las listas se definen usando corchetes [] y los elementos se separan por comas"
      ],
      "metadata": {
        "id": "yk96wnqPkmf5"
      }
    },
    {
      "cell_type": "code",
      "source": [
        "lista_1 = [9, 7, 5, 24, 7, 7]\n",
        "lista_2 = [\"kevin\", \"martinez\", \"nicolas\", \"miranda\"]\n",
        "\n",
        "# 1. Append: Agrega un elemento al final de la lista\n",
        "lista_1.append(10)\n",
        "print(\"Append:\", lista_1)\n",
        "\n",
        "# 2. Insert: Inserta un elemento en una posición específica\n",
        "lista_2.insert(1, \"andres\")\n",
        "print(\"Insert:\", lista_2)\n",
        "\n",
        "# 3. Remove: Elimina la primera aparición de un elemento en la lista\n",
        "lista_1.remove(7)\n",
        "print(\"Remove:\", lista_1)\n",
        "\n",
        "# 4. Pop: Elimina y devuelve un elemento de la lista en una posición específica\n",
        "elemento_eliminado = lista_2.pop(2)\n",
        "print(\"Pop:\", lista_2)\n",
        "print(\"Elemento eliminado:\", elemento_eliminado)\n",
        "\n",
        "# 5. Index: Devuelve el índice de la primera aparición de un valor en la lista\n",
        "indice = lista_1.index(24)\n",
        "print(\"Index:\", indice)\n",
        "\n",
        "# 6. Count: Cuenta cuántas veces aparece un elemento en la lista\n",
        "contador = lista_1.count(7)\n",
        "print(\"Count:\", contador)\n",
        "\n",
        "# 7. Sort: Ordena los elementos de la lista en orden ascendente\n",
        "lista_1.sort()\n",
        "print(\"Sort (ascendente):\", lista_1)\n",
        "\n",
        "# 8. Reverse: Invierte el orden de los elementos en la lista\n",
        "lista_2.reverse()\n",
        "print(\"Reverse:\", lista_2)\n",
        "\n",
        "# 9. Extend: Extiende una lista agregando todos los elementos de otra lista\n",
        "lista_1.extend([1, 2, 3])\n",
        "print(\"Extend:\", lista_1)\n",
        "\n",
        "# 10. Clear: Elimina todos los elementos de la lista\n",
        "lista_2.clear()\n",
        "print(\"Clear:\", lista_2)\n"
      ],
      "metadata": {
        "colab": {
          "base_uri": "https://localhost:8080/"
        },
        "id": "1RFb2KwXkh5X",
        "outputId": "22e20b29-c5bc-428c-fc01-433bfbfe3fc6"
      },
      "execution_count": null,
      "outputs": [
        {
          "output_type": "stream",
          "name": "stdout",
          "text": [
            "Append: [9, 7, 5, 24, 7, 7, 10]\n",
            "Insert: ['kevin', 'andres', 'martinez', 'nicolas', 'miranda']\n",
            "Remove: [9, 5, 24, 7, 7, 10]\n",
            "Pop: ['kevin', 'andres', 'nicolas', 'miranda']\n",
            "Elemento eliminado: martinez\n",
            "Index: 2\n",
            "Count: 2\n",
            "Sort (ascendente): [5, 7, 7, 9, 10, 24]\n",
            "Reverse: ['miranda', 'nicolas', 'andres', 'kevin']\n",
            "Extend: [5, 7, 7, 9, 10, 24, 1, 2, 3]\n",
            "Clear: []\n"
          ]
        }
      ]
    },
    {
      "cell_type": "markdown",
      "source": [
        "#####Diccionario:Un diccionario en Python es una estructura de datos que almacena pares de clave y valor. Es similar a una lista, pero en lugar de usar índices numéricos para acceder a sus elementos, se usan claves. Las claves deben ser únicas e inmutables (por ejemplo, cadenas o números), mientras que los valores pueden ser de cualquier tipo y pueden repetirse.Los diccionarios se definen usando llaves {} y se separan las claves y valores con dos puntos :"
      ],
      "metadata": {
        "id": "uDKW7R1MlgaB"
      }
    },
    {
      "cell_type": "code",
      "source": [
        "diccionario_1 = {\"nombre\": \"kevin\", \"apellido\": \"martínez\"}\n",
        "diccionario_2 = {\"día\": 9, \"mes\": 7, \"año\": 2005}\n",
        "\n",
        "# 1. Access (Acceso): Acceder al valor asociado a una clave\n",
        "nombre = diccionario_1[\"nombre\"]\n",
        "print(\"Access:\", nombre)\n",
        "\n",
        "# 2. Update: Actualizar el valor de una clave existente\n",
        "diccionario_1[\"apellido\"] = \"garcía\"\n",
        "print(\"Update:\", diccionario_1)\n",
        "\n",
        "# 3. Add (Agregar): Agregar un nuevo par clave-valor al diccionario\n",
        "diccionario_1[\"edad\"] = 25\n",
        "print(\"Add:\", diccionario_1)\n",
        "\n",
        "# 4. Pop: Eliminar un par clave-valor y devolver su valor\n",
        "mes_eliminado = diccionario_2.pop(\"mes\")\n",
        "print(\"Pop:\", diccionario_2)\n",
        "print(\"Valor eliminado:\", mes_eliminado)\n",
        "\n",
        "# 5. Get: Obtener el valor de una clave de forma segura\n",
        "año = diccionario_2.get(\"año\")\n",
        "print(\"Get:\", año)\n",
        "\n",
        "# 6. Keys: Obtener una lista de todas las claves del diccionario\n",
        "claves_diccionario_1 = diccionario_1.keys()\n",
        "print(\"Keys:\", claves_diccionario_1)\n",
        "\n",
        "# 7. Values: Obtener una lista de todos los valores del diccionario\n",
        "valores_diccionario_2 = diccionario_2.values()\n",
        "print(\"Values:\", valores_diccionario_2)\n",
        "\n",
        "# 8. Items: Obtener una lista de pares clave-valor como tuplas\n",
        "elementos_diccionario_1 = diccionario_1.items()\n",
        "print(\"Items:\", elementos_diccionario_1)\n",
        "\n",
        "# 9. Clear: Eliminar todos los elementos del diccionario\n",
        "diccionario_2.clear()\n",
        "print(\"Clear:\", diccionario_2)\n",
        "\n",
        "# 10. Copy: Crear una copia superficial del diccionario\n",
        "copia_diccionario_1 = diccionario_1.copy()\n",
        "print(\"Copy:\", copia_diccionario_1)\n"
      ],
      "metadata": {
        "colab": {
          "base_uri": "https://localhost:8080/"
        },
        "id": "AlJjCPeQl48n",
        "outputId": "0058103c-9ac9-432c-a43b-1a47ebca0182"
      },
      "execution_count": null,
      "outputs": [
        {
          "output_type": "stream",
          "name": "stdout",
          "text": [
            "Access: kevin\n",
            "Update: {'nombre': 'kevin', 'apellido': 'garcía'}\n",
            "Add: {'nombre': 'kevin', 'apellido': 'garcía', 'edad': 25}\n",
            "Pop: {'día': 9, 'año': 2005}\n",
            "Valor eliminado: 7\n",
            "Get: 2005\n",
            "Keys: dict_keys(['nombre', 'apellido', 'edad'])\n",
            "Values: dict_values([9, 2005])\n",
            "Items: dict_items([('nombre', 'kevin'), ('apellido', 'garcía'), ('edad', 25)])\n",
            "Clear: {}\n",
            "Copy: {'nombre': 'kevin', 'apellido': 'garcía', 'edad': 25}\n"
          ]
        }
      ]
    },
    {
      "cell_type": "markdown",
      "source": [
        "#Ejercicios lista y diccionario"
      ],
      "metadata": {
        "id": "BczKb6I3jOEF"
      }
    },
    {
      "cell_type": "markdown",
      "source": [
        "##Lista"
      ],
      "metadata": {
        "id": "wGhV2e5jjUSY"
      }
    },
    {
      "cell_type": "code",
      "source": [
        "#1. Dada la lista: list1 = [100, 200, 300, 400, 500], se desea que imprima [500, 400, 300, 200, 100]\n",
        "list1 = [100, 200, 300, 400, 500]\n",
        "list1.reverse()\n",
        "print(list1)\n"
      ],
      "metadata": {
        "colab": {
          "base_uri": "https://localhost:8080/"
        },
        "id": "RuiMXiDJjWBz",
        "outputId": "395c43c5-ba09-4385-8d64-389e9a25c621"
      },
      "execution_count": null,
      "outputs": [
        {
          "output_type": "stream",
          "name": "stdout",
          "text": [
            "[500, 400, 300, 200, 100]\n"
          ]
        }
      ]
    },
    {
      "cell_type": "code",
      "source": [
        "#2. Escriba un programa que unas dos listas, de tal forma que lista1 = [\"M\", \"nom\", \"e\", \"e\"] lista2 = [\"i\", \"bre\", \"s\", “quis\"] da como resultado ['Mi', 'nombre', 'es', 'equis'] (reemplazar el nombre por el del estudiante)\n",
        "lista1 = [\"M\", \"nom\", \"e\", \"Ke\"]\n",
        "lista2 = [\"i\", \"bre\", \"s\", \"vin\"]\n",
        "resultado = [lista1[i] + lista2[i] for i in range(len(lista1))]\n",
        "print(resultado)\n"
      ],
      "metadata": {
        "colab": {
          "base_uri": "https://localhost:8080/"
        },
        "id": "8LQGnz_mkKJJ",
        "outputId": "2136cc91-c509-4b43-efb6-0295c382b81a"
      },
      "execution_count": null,
      "outputs": [
        {
          "output_type": "stream",
          "name": "stdout",
          "text": [
            "['Mi', 'nombre', 'es', 'Kevin']\n"
          ]
        }
      ]
    },
    {
      "cell_type": "code",
      "source": [
        "#3. Desarrolle un programa que calcule el doble de cada uno de los elementos de una lista. Ejemplo: si la lista es [1, 2, 3, 4, 5, 6, 7] da como resultado [1, 4, 9, 16, 25, 36, 49].\n",
        "lista = [1, 2, 3, 4, 5, 6, 7]\n",
        "resultado = [x * 2 for x in lista]\n",
        "print(resultado)\n"
      ],
      "metadata": {
        "colab": {
          "base_uri": "https://localhost:8080/"
        },
        "id": "83fLJlNpkmY-",
        "outputId": "88b68370-4415-4196-e0a6-2b2a9666bbc3"
      },
      "execution_count": null,
      "outputs": [
        {
          "output_type": "stream",
          "name": "stdout",
          "text": [
            "[2, 4, 6, 8, 10, 12, 14]\n"
          ]
        }
      ]
    },
    {
      "cell_type": "code",
      "source": [
        "#4. Dadas dos listas a. lista1 = [\"Hola \", \"toma \"] b. lista2 = [\"Querido\", \"Señor\"] desarrollar un programe que de como resultado [“Hola Querido”, “Hola Señor”, 'toma Querido”, 'toma Señor']\n",
        "lista1 = [\"Hola \", \"toma \"]\n",
        "lista2 = [\"Querido\", \"Señor\"]\n",
        "resultado = [x + y for x in lista1 for y in lista2]\n",
        "print(resultado)\n"
      ],
      "metadata": {
        "colab": {
          "base_uri": "https://localhost:8080/"
        },
        "id": "x2Jv2QGMkyCs",
        "outputId": "f11ba27d-2e91-4f04-b131-8a532d4037d6"
      },
      "execution_count": null,
      "outputs": [
        {
          "output_type": "stream",
          "name": "stdout",
          "text": [
            "['Hola Querido', 'Hola Señor', 'toma Querido', 'toma Señor']\n"
          ]
        }
      ]
    },
    {
      "cell_type": "code",
      "source": [
        "#5. Dadas dos listas list1 = [10, 20, 30, 40] list2 = [100, 200, 300, 400] se desea construir un programa que imprima 10 400 20 300 30 200 40 100\n",
        "list1 = [10, 20, 30, 40]\n",
        "list2 = [100, 200, 300, 400]\n",
        "for x, y in zip(list1, list2[::-1]):\n",
        "    print(x, y)\n"
      ],
      "metadata": {
        "colab": {
          "base_uri": "https://localhost:8080/"
        },
        "id": "-XOL909glIS_",
        "outputId": "0f554d52-1e1c-47af-a64b-3126c416f805"
      },
      "execution_count": null,
      "outputs": [
        {
          "output_type": "stream",
          "name": "stdout",
          "text": [
            "10 400\n",
            "20 300\n",
            "30 200\n",
            "40 100\n"
          ]
        }
      ]
    },
    {
      "cell_type": "code",
      "source": [
        "#6. Dada la lista [\"Mike\", \"\", \"Emma\", \"Kelly\", \"\", \"Brad\"] se desea un programa que elimine el elemento vacío.\n",
        "lista = [\"Mike\", \"\", \"Emma\", \"Kelly\", \"\", \"Brad\"]\n",
        "resultado = [x for x in lista if x]\n",
        "print(resultado)\n"
      ],
      "metadata": {
        "colab": {
          "base_uri": "https://localhost:8080/"
        },
        "id": "LcUgJSGepCBl",
        "outputId": "96fc4ff8-e3ac-45af-db88-3bae484d515c"
      },
      "execution_count": null,
      "outputs": [
        {
          "output_type": "stream",
          "name": "stdout",
          "text": [
            "['Mike', 'Emma', 'Kelly', 'Brad']\n"
          ]
        }
      ]
    },
    {
      "cell_type": "code",
      "source": [
        "#7. Dada la lista [10, 20, [300, 400, [5000, 6000], 500], 30, 40] se desea un programa que genere el siguiente resultado: [10, 20, [300, 400, [5000, 6000, 7000], 500], 30, 40]\n",
        "lista = [10, 20, [300, 400, [5000, 6000], 500], 30, 40]\n",
        "lista[2][2].append(7000)\n",
        "print(lista)\n"
      ],
      "metadata": {
        "colab": {
          "base_uri": "https://localhost:8080/"
        },
        "id": "oniEWN-rGUBn",
        "outputId": "c3cf812b-6c5a-4792-fc36-b3494cbfb797"
      },
      "execution_count": 1,
      "outputs": [
        {
          "output_type": "stream",
          "name": "stdout",
          "text": [
            "[10, 20, [300, 400, [5000, 6000, 7000], 500], 30, 40]\n"
          ]
        }
      ]
    },
    {
      "cell_type": "code",
      "source": [
        "#8. Agregar elementos de una lista dentro de otra lista anidada:\n",
        "lista1 = [\"a\", \"b\", [\"c\", [\"d\", \"e\", [\"f\", \"g\"], \"k\"], \"l\"], \"m\", \"n\"]\n",
        "lista2 = [\"h\", \"i\", \"j\"]\n",
        "lista1[2][1][2].extend(lista2)\n",
        "print(lista1)\n"
      ],
      "metadata": {
        "colab": {
          "base_uri": "https://localhost:8080/"
        },
        "id": "_0PCgzYVGm6v",
        "outputId": "4e456e09-cf6d-45dd-f478-72a91b75dd30"
      },
      "execution_count": 2,
      "outputs": [
        {
          "output_type": "stream",
          "name": "stdout",
          "text": [
            "['a', 'b', ['c', ['d', 'e', ['f', 'g', 'h', 'i', 'j'], 'k'], 'l'], 'm', 'n']\n"
          ]
        }
      ]
    },
    {
      "cell_type": "code",
      "source": [
        "#9. Dada la lista [5, 10, 15, 20, 25, 50, 20] se desea un programa que reemplace el número de la mitad por 200.\n",
        "lista = [5, 10, 15, 20, 25, 50, 20]\n",
        "lista[len(lista)//2] = 200\n",
        "print(lista)\n"
      ],
      "metadata": {
        "colab": {
          "base_uri": "https://localhost:8080/"
        },
        "id": "bP2uWUxRG3Nn",
        "outputId": "c075d87f-4066-40db-99c9-049d2c220b1f"
      },
      "execution_count": 3,
      "outputs": [
        {
          "output_type": "stream",
          "name": "stdout",
          "text": [
            "[5, 10, 15, 200, 25, 50, 20]\n"
          ]
        }
      ]
    },
    {
      "cell_type": "code",
      "source": [
        "#10. Eliminar duplicados de una lista:\n",
        "lista = [5, 20, 15, 20, 25, 50, 20]\n",
        "resultado = list(dict.fromkeys(lista))\n",
        "print(resultado)\n"
      ],
      "metadata": {
        "colab": {
          "base_uri": "https://localhost:8080/"
        },
        "id": "eY74xa4UHdJv",
        "outputId": "0a804cb4-0a3d-48d6-d07e-1c58ed24e5ec"
      },
      "execution_count": 4,
      "outputs": [
        {
          "output_type": "stream",
          "name": "stdout",
          "text": [
            "[5, 20, 15, 25, 50]\n"
          ]
        }
      ]
    },
    {
      "cell_type": "code",
      "source": [
        "#11. Contar ocurrencias de elementos en una lista:\n",
        "lista = [5, 20, 15, 20, 25, 50, 20]\n",
        "resultado = {x: lista.count(x) for x in set(lista)}\n",
        "for clave, valor in resultado.items():\n",
        "    print(f\"{clave} = {valor}\")\n"
      ],
      "metadata": {
        "colab": {
          "base_uri": "https://localhost:8080/"
        },
        "id": "y9BFY6GtH1gP",
        "outputId": "4e18f206-b8b7-43b7-ec17-07bcb4237a6b"
      },
      "execution_count": 5,
      "outputs": [
        {
          "output_type": "stream",
          "name": "stdout",
          "text": [
            "5 = 1\n",
            "15 = 1\n",
            "50 = 1\n",
            "20 = 3\n",
            "25 = 1\n"
          ]
        }
      ]
    },
    {
      "cell_type": "code",
      "source": [
        "#12. Ordenar elementos de una lista\n",
        "lista = [5, 20, 15, 20, 25, 50, 20]\n",
        "lista_ascendente = sorted(lista)\n",
        "lista_descendente = sorted(lista, reverse=True)\n",
        "print(\"Ascendente:\", lista_ascendente)\n",
        "print(\"Descendente:\", lista_descendente)\n"
      ],
      "metadata": {
        "colab": {
          "base_uri": "https://localhost:8080/"
        },
        "id": "eeWqTJYXICz0",
        "outputId": "f277ad69-4087-47bf-e6bc-da00aea2f960"
      },
      "execution_count": 6,
      "outputs": [
        {
          "output_type": "stream",
          "name": "stdout",
          "text": [
            "Ascendente: [5, 15, 20, 20, 20, 25, 50]\n",
            "Descendente: [50, 25, 20, 20, 20, 15, 5]\n"
          ]
        }
      ]
    },
    {
      "cell_type": "code",
      "source": [
        "#13. Obtener suma, multiplicación, mayor y menor de los elementos de una lista:\n",
        "lista = [1, 2, 3, 4, 5]\n",
        "suma = sum(lista)\n",
        "multiplicacion = 1\n",
        "for num in lista:\n",
        "    multiplicacion *= num\n",
        "mayor = max(lista)\n",
        "menor = min(lista)\n",
        "\n",
        "print(f\"Suma: {suma}\")\n",
        "print(f\"Multiplicación: {multiplicacion}\")\n",
        "print(f\"Mayor: {mayor}\")\n",
        "print(f\"Menor: {menor}\")\n"
      ],
      "metadata": {
        "colab": {
          "base_uri": "https://localhost:8080/"
        },
        "id": "qhzAR1SpI0yI",
        "outputId": "b8f0c422-83eb-4b46-b150-ce2ba91d0b40"
      },
      "execution_count": 7,
      "outputs": [
        {
          "output_type": "stream",
          "name": "stdout",
          "text": [
            "Suma: 15\n",
            "Multiplicación: 120\n",
            "Mayor: 5\n",
            "Menor: 1\n"
          ]
        }
      ]
    },
    {
      "cell_type": "code",
      "source": [
        "#14. Calcular la diferencia entre dos listas:\n",
        "lista1 = [1, 2, 3, 4, 5]\n",
        "lista2 = [4, 5, 6, 7, 8]\n",
        "diferencia = list(set(lista1) - set(lista2))\n",
        "\n",
        "print(f\"Diferencia: {diferencia}\")\n"
      ],
      "metadata": {
        "colab": {
          "base_uri": "https://localhost:8080/"
        },
        "id": "eAInlaTkJckY",
        "outputId": "a5858c09-51c8-4413-a8e3-b91872a32d85"
      },
      "execution_count": 8,
      "outputs": [
        {
          "output_type": "stream",
          "name": "stdout",
          "text": [
            "Diferencia: [1, 2, 3]\n"
          ]
        }
      ]
    },
    {
      "cell_type": "code",
      "source": [
        "#15. Identificar el segundo y tercer elemento menor en una lista de 10 elementos:\n",
        "lista = [10, 1, 23, 4, 8, 5, 9, 7, 2, 6]\n",
        "lista_ordenada = sorted(lista)\n",
        "segundo_menor = lista_ordenada[1]\n",
        "tercer_menor = lista_ordenada[2]\n",
        "\n",
        "print(f\"Segundo menor: {segundo_menor}\")\n",
        "print(f\"Tercer menor: {tercer_menor}\")\n"
      ],
      "metadata": {
        "colab": {
          "base_uri": "https://localhost:8080/"
        },
        "id": "5JT9AjCrJkz-",
        "outputId": "723bbead-1e10-4712-9353-a0f59315e4ad"
      },
      "execution_count": 9,
      "outputs": [
        {
          "output_type": "stream",
          "name": "stdout",
          "text": [
            "Segundo menor: 2\n",
            "Tercer menor: 4\n"
          ]
        }
      ]
    },
    {
      "cell_type": "code",
      "source": [
        "#16. Crear múltiples listas a partir de una lista principal:\n",
        "lista = [5, 20, 15, 20, 25, 50, 20]\n",
        "lista1 = [lista[i] + lista[i - 1] for i in range(1, len(lista))]\n",
        "lista2 = [max(0, lista[i] - lista[i - 1]) for i in range(1, len(lista))]\n",
        "lista3 = [x * 2 for x in lista]\n",
        "lista4 = [x ** 2 for x in lista]\n",
        "\n",
        "print(f\"Lista1: {lista1}\")\n",
        "print(f\"Lista2: {lista2}\")\n",
        "print(f\"Lista3: {lista3}\")\n",
        "print(f\"Lista4: {lista4}\")\n"
      ],
      "metadata": {
        "colab": {
          "base_uri": "https://localhost:8080/"
        },
        "id": "8zkdKgWtJssj",
        "outputId": "0dd8a57d-8ccd-4b15-fc35-b54654a067be"
      },
      "execution_count": 10,
      "outputs": [
        {
          "output_type": "stream",
          "name": "stdout",
          "text": [
            "Lista1: [25, 35, 35, 45, 75, 70]\n",
            "Lista2: [15, 0, 5, 5, 25, 0]\n",
            "Lista3: [10, 40, 30, 40, 50, 100, 40]\n",
            "Lista4: [25, 400, 225, 400, 625, 2500, 400]\n"
          ]
        }
      ]
    },
    {
      "cell_type": "code",
      "source": [
        "#17. Separar elementos de una lista en el n-ésimo término:\n",
        "lista = ['a', 'b', 'c', 'd', 'e', 'f', 'g', 'h', 'i', 'j', 'k', 'l', 'm', 'n']\n",
        "n = 5\n",
        "lista_separada = [lista[i::n] for i in range(n)]\n",
        "\n",
        "print(f\"Lista separada: {lista_separada}\")\n"
      ],
      "metadata": {
        "colab": {
          "base_uri": "https://localhost:8080/"
        },
        "id": "waDbXIMMJ099",
        "outputId": "e0c089ce-1d03-43a0-e746-3c654f2d0f2a"
      },
      "execution_count": 12,
      "outputs": [
        {
          "output_type": "stream",
          "name": "stdout",
          "text": [
            "Lista separada: [['a', 'f', 'k'], ['b', 'g', 'l'], ['c', 'h', 'm'], ['d', 'i', 'n'], ['e', 'j']]\n"
          ]
        }
      ]
    },
    {
      "cell_type": "code",
      "source": [
        "#18. Mover todos los ceros al final de una lista:\n",
        "lista = [3, 4, 0, 0, 0, 6, 2, 0, 6, 7, 6, 0, 0, 0, 9, 10, 7, 4, 4, 5, 3, 0, 0, 2, 9, 7, 1]\n",
        "no_ceros = [x for x in lista if x != 0]\n",
        "ceros = [0] * lista.count(0)\n",
        "resultado = no_ceros + ceros\n",
        "\n",
        "print(f\"Lista con ceros al final: {resultado}\")\n"
      ],
      "metadata": {
        "id": "OIeqXWUiKCCs"
      },
      "execution_count": null,
      "outputs": []
    },
    {
      "cell_type": "markdown",
      "source": [
        "##Diccionario"
      ],
      "metadata": {
        "id": "abHx4xyHpgOp"
      }
    },
    {
      "cell_type": "code",
      "source": [
        "#1. Generar un diccionario de dos listas:\n",
        "colores = [\"Black\", \"Red\", \"Maroon\", \"Yellow\"]\n",
        "codigos = [\"#000000\", \"#FF0000\", \"#800000\", \"#FFFF00\"]\n",
        "resultado = [{'color_name': color, 'color_code': codigo} for color, codigo in zip(colores, codigos)]\n",
        "print(resultado)\n"
      ],
      "metadata": {
        "colab": {
          "base_uri": "https://localhost:8080/"
        },
        "id": "978QfQnkpiNv",
        "outputId": "2e158814-979c-4079-db3f-107e5efa4d90"
      },
      "execution_count": null,
      "outputs": [
        {
          "output_type": "stream",
          "name": "stdout",
          "text": [
            "[{'color_name': 'Black', 'color_code': '#000000'}, {'color_name': 'Red', 'color_code': '#FF0000'}, {'color_name': 'Maroon', 'color_code': '#800000'}, {'color_name': 'Yellow', 'color_code': '#FFFF00'}]\n"
          ]
        }
      ]
    },
    {
      "cell_type": "code",
      "source": [
        "#2. Generar un diccionario con el cuadrado de claves del 1 al 15:\n",
        "resultado = {i: i ** 2 for i in range(1, 16)}\n",
        "print(resultado)\n"
      ],
      "metadata": {
        "colab": {
          "base_uri": "https://localhost:8080/"
        },
        "id": "K1X0oI7Ops7w",
        "outputId": "49ba2719-6b85-464a-f384-51803545ae03"
      },
      "execution_count": null,
      "outputs": [
        {
          "output_type": "stream",
          "name": "stdout",
          "text": [
            "{1: 1, 2: 4, 3: 9, 4: 16, 5: 25, 6: 36, 7: 49, 8: 64, 9: 81, 10: 100, 11: 121, 12: 144, 13: 169, 14: 196, 15: 225}\n"
          ]
        }
      ]
    },
    {
      "cell_type": "code",
      "source": [
        "#3. Combinar dos diccionarios sumando valores de claves comunes:\n",
        "d1 = {'a': 100, 'b': 200, 'c': 300}\n",
        "d2 = {'a': 300, 'b': 200, 'd': 400}\n",
        "d3 = {k: d1.get(k, 0) + d2.get(k, 0) for k in set(d1) | set(d2)}\n",
        "print(d3)\n"
      ],
      "metadata": {
        "colab": {
          "base_uri": "https://localhost:8080/"
        },
        "id": "V-RmtYnfKSzn",
        "outputId": "bc342904-22c0-4a22-f540-509e5246982a"
      },
      "execution_count": 13,
      "outputs": [
        {
          "output_type": "stream",
          "name": "stdout",
          "text": [
            "{'b': 400, 'c': 300, 'd': 400, 'a': 400}\n"
          ]
        }
      ]
    },
    {
      "cell_type": "code",
      "source": [
        "#4. Obtener valores únicos de un diccionario:\n",
        "lista_diccionarios = [{\"V\": \"S001\"}, {\"V\": \"S002\"}, {\"VI\": \"S001\"}, {\"VI\": \"S005\"}, {\"VII\": \"S005\"}, {\"V\": \"S009\"}, {\"VIII\": \"S007\"}]\n",
        "valores_unicos = {list(d.values())[0] for d in lista_diccionarios}\n",
        "print(valores_unicos)\n"
      ],
      "metadata": {
        "colab": {
          "base_uri": "https://localhost:8080/"
        },
        "id": "CL4QuMoiKY-n",
        "outputId": "b51a8162-02b5-4f1d-8905-56e0b245a28b"
      },
      "execution_count": 14,
      "outputs": [
        {
          "output_type": "stream",
          "name": "stdout",
          "text": [
            "{'S005', 'S009', 'S007', 'S001', 'S002'}\n"
          ]
        }
      ]
    },
    {
      "cell_type": "code",
      "source": [
        "#5. Contar letras en una palabra y generar un diccionario:\n",
        "palabra = \"Anita\"\n",
        "resultado = {letra: palabra.lower().count(letra) for letra in set(palabra.lower())}\n",
        "print(resultado)\n"
      ],
      "metadata": {
        "colab": {
          "base_uri": "https://localhost:8080/"
        },
        "id": "SWVDUIW9Kf2S",
        "outputId": "dfb0d146-8941-4401-84db-c9ae34fd4032"
      },
      "execution_count": 15,
      "outputs": [
        {
          "output_type": "stream",
          "name": "stdout",
          "text": [
            "{'n': 1, 't': 1, 'i': 1, 'a': 2}\n"
          ]
        }
      ]
    },
    {
      "cell_type": "code",
      "source": [
        "#6. Emular una caja registradora:\n",
        "productos = {\n",
        "    'producto1': 10, 'producto2': 15, 'producto3': 20, 'producto4': 25,\n",
        "    'producto5': 30, 'producto6': 35, 'producto7': 40, 'producto8': 45,\n",
        "    'producto9': 50, 'producto10': 55, 'producto11': 60, 'producto12': 65,\n",
        "    'producto13': 70, 'producto14': 75, 'producto15': 80\n",
        "}\n",
        "ventas = {\n",
        "    'producto1': 5, 'producto2': 3, 'producto3': 2, 'producto4': 4,\n",
        "    'producto5': 1, 'producto6': 7, 'producto7': 0, 'producto8': 3,\n",
        "    'producto9': 4, 'producto10': 2, 'producto11': 1, 'producto12': 6,\n",
        "    'producto13': 5, 'producto14': 2, 'producto15': 8\n",
        "}\n",
        "\n",
        "total_vendido = sum(ventas.values())\n",
        "ganancia_total = sum(productos[producto] * ventas[producto] for producto in productos)\n",
        "mayor_compra = max(productos[producto] * ventas[producto] for producto in productos)\n",
        "total_clientes = len([venta for venta in ventas.values() if venta > 0])\n",
        "\n",
        "print(\"Total de productos vendidos:\", total_vendido)\n",
        "print(\"Ganancia total:\", ganancia_total)\n",
        "print(\"Mayor compra:\", mayor_compra)\n",
        "print(\"Total de clientes atendidos:\", total_clientes)\n"
      ],
      "metadata": {
        "id": "vmr8hqcvKmtT",
        "outputId": "f76f78e1-de38-472a-a153-a37f1f0c9131",
        "colab": {
          "base_uri": "https://localhost:8080/"
        }
      },
      "execution_count": 17,
      "outputs": [
        {
          "output_type": "stream",
          "name": "stdout",
          "text": [
            "Total de productos vendidos: 53\n",
            "Ganancia total: 2545\n",
            "Mayor compra: 640\n",
            "Total de clientes atendidos: 14\n"
          ]
        }
      ]
    }
  ]
}