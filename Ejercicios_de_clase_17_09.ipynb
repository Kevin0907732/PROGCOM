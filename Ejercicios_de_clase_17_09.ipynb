{
  "nbformat": 4,
  "nbformat_minor": 0,
  "metadata": {
    "colab": {
      "provenance": []
    },
    "kernelspec": {
      "name": "python3",
      "display_name": "Python 3"
    },
    "language_info": {
      "name": "python"
    }
  },
  "cells": [
    {
      "cell_type": "markdown",
      "source": [
        "#Kevin Philliphe Martínez Miranda"
      ],
      "metadata": {
        "id": "ZJUgeTJYbXOE"
      }
    },
    {
      "cell_type": "markdown",
      "source": [
        "##1. Crear el programa que solicite el nombre y el código de un estudiante y que luego lo imprima,junto con el logo de la institución educativa perteneciente.\n",
        "Ejemplo:\n",
        "Digite su nombre: Sonia Smith\n",
        "Digite su código: U000582515\n",
        "El programa imprimirá:\n",
        "UNIVERSIDAD AUTÓNOMA DE BUCARAMANGA\n",
        "Nombre del estudiante: Sonia Smith\n",
        "Código: U000582515"
      ],
      "metadata": {
        "id": "ZmCa9uQtcKs9"
      }
    },
    {
      "cell_type": "code",
      "execution_count": 2,
      "metadata": {
        "colab": {
          "base_uri": "https://localhost:8080/"
        },
        "id": "ZHfgA7QsbCxQ",
        "outputId": "89daa89c-032e-4fa3-ffca-93d79bc75003"
      },
      "outputs": [
        {
          "output_type": "stream",
          "name": "stdout",
          "text": [
            "Ingrese su nombre: Kevin Martínez\n",
            "Ingrese su código: U00179947\n",
            "UNIVERSIDAD AUTÓNOMA DE BUCARAMANGA\n",
            "Nombre del estudiante:  Kevin Martínez\n",
            "Código:  U00179947\n"
          ]
        }
      ],
      "source": [
        "#1. Crear el programa que solicite el nombre y el código de un estudiante y que luego lo imprima,\n",
        "\n",
        "nombre=str(input(\"Ingrese su nombre: \"))\n",
        "código=str(input(\"Ingrese su código: \"))\n",
        "print(\"UNIVERSIDAD AUTÓNOMA DE BUCARAMANGA\")\n",
        "print(\"Nombre del estudiante: \", nombre)\n",
        "print(\"Código: \", código)\n"
      ]
    },
    {
      "cell_type": "markdown",
      "source": [
        "##2. Diseñe un algoritmo para calcular el volumen de un cono."
      ],
      "metadata": {
        "id": "rTeaY1DAcc5E"
      }
    },
    {
      "cell_type": "code",
      "source": [
        "import math\n",
        "\n",
        "radio = float(input(\"Introduce el radio de la base del cono: \"))\n",
        "altura = float(input(\"Introduce la altura del cono: \"))\n",
        "\n",
        "volumen = (1 / 3) * math.pi * radio**2 * altura\n",
        "\n",
        "print(\"El volumen del cono es:\", volumen)"
      ],
      "metadata": {
        "colab": {
          "base_uri": "https://localhost:8080/"
        },
        "id": "sGw3OcTFcgPc",
        "outputId": "6b0c2735-1c74-4f8b-ba0d-7156a9198555"
      },
      "execution_count": 4,
      "outputs": [
        {
          "output_type": "stream",
          "name": "stdout",
          "text": [
            "Introduce el radio de la base del cono: 5\n",
            "Introduce la altura del cono: 12\n",
            "El volumen del cono es: 314.15926535897927\n"
          ]
        }
      ]
    },
    {
      "cell_type": "markdown",
      "source": [
        "##3. Dado el conjunto de n servidores que apoyen una red de computadores, diseñe un programa que calcule el número total de conexiones entre los servidores que soportan la red."
      ],
      "metadata": {
        "id": "lJdMa-fedU-y"
      }
    },
    {
      "cell_type": "code",
      "source": [
        "n = int(input(\"Introduce el número de servidores: \"))\n",
        "numero_conexiones = (n * (n - 1)) // 2\n",
        "print(\"El número total de conexiones entre los servidores es:\", numero_conexiones)"
      ],
      "metadata": {
        "id": "9WPFBxw9ddXK"
      },
      "execution_count": null,
      "outputs": []
    },
    {
      "cell_type": "markdown",
      "source": [
        "##4. Diseñe un algoritmo que lea temperatura en grados centígrados (o C) y la convierta en grados Fahrenheit (o F) y a grados Kelvin (o K)."
      ],
      "metadata": {
        "id": "HvGxtK7PesUa"
      }
    },
    {
      "cell_type": "code",
      "source": [
        "celsius = float(input(\"Introduce la temperatura en grados Celsius: \"))\n",
        "fahrenheit = (9 / 5) * celsius + 32\n",
        "kelvin = celsius + 273.15\n",
        "print(\"La temperatura en Fahrenheit es:\", fahrenheit)\n",
        "print(\"La temperatura en Kelvin es:\", kelvin)"
      ],
      "metadata": {
        "colab": {
          "base_uri": "https://localhost:8080/"
        },
        "id": "Ijo0LRUBe0dK",
        "outputId": "a1d84d95-dfb3-4099-937d-b7a45c388fb6"
      },
      "execution_count": 5,
      "outputs": [
        {
          "output_type": "stream",
          "name": "stdout",
          "text": [
            "Introduce la temperatura en grados Celsius: 32\n",
            "La temperatura en Fahrenheit es: 89.6\n",
            "La temperatura en Kelvin es: 305.15\n"
          ]
        }
      ]
    },
    {
      "cell_type": "markdown",
      "source": [],
      "metadata": {
        "id": "8qKAQ3sLfO3p"
      }
    },
    {
      "cell_type": "markdown",
      "source": [
        "##5. Diseñar el programa de un robot, que le permita contestar a ciertos requerimientos del usuario (se supone que el usuario sólo cuenta con una petición). Se debe programar los artículos y los precios de los mismos. El robot debe al menos: Dar la bienvenida al cliente."
      ],
      "metadata": {
        "id": "eSGgZOynftnR"
      }
    },
    {
      "cell_type": "code",
      "source": [
        "print(\"¡Bienvenido a la tienda!\")\n",
        "\n",
        "articulos = {\"Camiseta\": 15.99, \"Pantalones\": 25.50, \"Zapatos\": 45.75, \"Sombrero\": 12.00, \"Chaqueta\": 60.00}\n",
        "\n",
        "\n",
        "print(\"\\nAquí están los artículos disponibles y sus precios:\")\n",
        "for articulo, precio in articulos.items():\n",
        "    print(f\"{articulo}: ${precio:.2f}\")\n",
        "\n",
        "# Leer la selección del usuario\n",
        "seleccion = input(\"\\nIntroduce el nombre del artículo que deseas consultar el precio: \")\n",
        "\n",
        "# Mostrar el precio del artículo seleccionado\n",
        "if seleccion in articulos:\n",
        "    print(f\"\\nEl precio de {seleccion} es: ${articulos[seleccion]:.2f}\")\n",
        "else:\n",
        "    print(\"\\nLo siento, el artículo seleccionado no está disponible.\")"
      ],
      "metadata": {
        "colab": {
          "base_uri": "https://localhost:8080/"
        },
        "id": "bjAxEfytf00Q",
        "outputId": "3794f05f-de62-4362-dfc6-38d07e6881ac"
      },
      "execution_count": 6,
      "outputs": [
        {
          "output_type": "stream",
          "name": "stdout",
          "text": [
            "¡Bienvenido a la tienda!\n",
            "\n",
            "Aquí están los artículos disponibles y sus precios:\n",
            "Camiseta: $15.99\n",
            "Pantalones: $25.50\n",
            "Zapatos: $45.75\n",
            "Sombrero: $12.00\n",
            "Chaqueta: $60.00\n",
            "\n",
            "Introduce el nombre del artículo que deseas consultar el precio: Zapatos\n",
            "\n",
            "El precio de Zapatos es: $45.75\n"
          ]
        }
      ]
    },
    {
      "cell_type": "markdown",
      "source": [
        "##6. Diseñe un programa que le permita calcular la resistencia total Rx. Considere que las n resistencias pueden estar en serie o en paralelo."
      ],
      "metadata": {
        "id": "hlvfEz86gPkh"
      }
    },
    {
      "cell_type": "code",
      "source": [
        "\n",
        "tipo_conexion = input(\"¿Las resistencias están en serie o en paralelo? (serie/paralelo): \").strip().lower()\n",
        "n = int(input(\"Introduce el número de resistencias: \"))\n",
        "resistencias = []\n",
        "\n",
        "for i in range(n):\n",
        "    resistencia = float(input(f\"Introduce el valor de la resistencia {i + 1} en ohmios: \"))\n",
        "    resistencias.append(resistencia)\n",
        "\n",
        "if tipo_conexion == \"serie\":\n",
        "    resistencia_total = sum(resistencias)\n",
        "\n",
        "elif tipo_conexion == \"paralelo\":\n",
        "    suma_inversos = 0\n",
        "    for resistencia in resistencias:\n",
        "        suma_inversos += 1 / resistencia\n",
        "    resistencia_total = 1 / suma_inversos if suma_inversos != 0 else float('inf')\n",
        "\n",
        "else:\n",
        "    print(\"Tipo de conexión no válido. Por favor, elige 'serie' o 'paralelo'.\")\n",
        "    resistencia_total= None\n",
        "\n",
        "if resistencia_total is not None:\n",
        "    print(f\"La resistencia total es: {resistencia_total:.2f} ohmios\")"
      ],
      "metadata": {
        "colab": {
          "base_uri": "https://localhost:8080/"
        },
        "id": "E9xGMr6VgWPY",
        "outputId": "db0365d8-c024-45c8-ccf3-7276958c5bac"
      },
      "execution_count": 8,
      "outputs": [
        {
          "output_type": "stream",
          "name": "stdout",
          "text": [
            "¿Las resistencias están en serie o en paralelo? (serie/paralelo): paralelo\n",
            "Introduce el número de resistencias: 3\n",
            "Introduce el valor de la resistencia 1 en ohmios: 4\n",
            "Introduce el valor de la resistencia 2 en ohmios: 6\n",
            "Introduce el valor de la resistencia 3 en ohmios: 2\n",
            "La resistencia total es: 1.09 ohmios\n"
          ]
        }
      ]
    },
    {
      "cell_type": "markdown",
      "source": [
        "##7. Diseñe un algoritmo que lea temperatura en grados centígrados (o C) y la convierta en grados Fahrenheit (o F) y a grados Kelvin (o K), siempre y cuando la temperatura dada en grados sea positiva."
      ],
      "metadata": {
        "id": "6bDDv5RshHHH"
      }
    },
    {
      "cell_type": "code",
      "source": [
        "celsius = float(input(\"Introduce la temperatura en grados Celsius: \"))\n",
        "\n",
        "if celsius >= 0:\n",
        "    fahrenheit = (9 / 5) * celsius + 32\n",
        "\n",
        "    kelvin = celsius + 273.15\n",
        "\n",
        "    print(\"La temperatura en Fahrenheit es:\", fahrenheit)\n",
        "    print(\"La temperatura en Kelvin es:\", kelvin)\n",
        "else:\n",
        "    print(\"Error: La temperatura debe ser positiva.\")"
      ],
      "metadata": {
        "colab": {
          "base_uri": "https://localhost:8080/"
        },
        "id": "aiH3-cMihnCP",
        "outputId": "8d6832b6-bffa-441d-dc1b-10c5ab578695"
      },
      "execution_count": 10,
      "outputs": [
        {
          "output_type": "stream",
          "name": "stdout",
          "text": [
            "Introduce la temperatura en grados Celsius: 0\n",
            "La temperatura en Fahrenheit es: 32.0\n",
            "La temperatura en Kelvin es: 273.15\n"
          ]
        }
      ]
    },
    {
      "cell_type": "markdown",
      "source": [
        "##8. Dado dos enteros: horas(h) y minutos (m), representativos del tiempo en horas y minutos dado por un reloj de 24 horas, convierta el tiempo dado por el reloj de 24 horas a un reloj que obtenga el tiempo cada 12 horas.\n"
      ],
      "metadata": {
        "id": "3pt9SeTAiZ2o"
      }
    },
    {
      "cell_type": "code",
      "source": [
        "horas = int(input(\"Introduce las horas (0-23): \"))\n",
        "minutos = int(input(\"Introduce los minutos (0-59): \"))\n",
        "\n",
        "if (0 <= horas < 24) and (0 <= minutos < 60):\n",
        "    if horas == 0:\n",
        "        horas_12 = 12\n",
        "        periodo = \"AM\"\n",
        "    elif horas < 12:\n",
        "        horas_12 = horas\n",
        "        periodo = \"AM\"\n",
        "    elif horas == 12:\n",
        "        horas_12 = 12\n",
        "        periodo = \"PM\"\n",
        "    else:\n",
        "        horas_12 = horas - 12\n",
        "        periodo = \"PM\"\n",
        "\n",
        "    print(f\"El tiempo en formato de 12 horas es: {horas_12}:{minutos:02d} {periodo}\")\n",
        "else:\n",
        "    print(\"Error: Las horas deben estar entre 0 y 23, y los minutos entre 0 y 59.\")"
      ],
      "metadata": {
        "colab": {
          "base_uri": "https://localhost:8080/"
        },
        "id": "Y0S4RUuFimDX",
        "outputId": "3e551110-9008-4903-d0f5-5a71238fab3d"
      },
      "execution_count": 11,
      "outputs": [
        {
          "output_type": "stream",
          "name": "stdout",
          "text": [
            "Introduce las horas (0-23): 15\n",
            "Introduce los minutos (0-59): 45\n",
            "El tiempo en formato de 12 horas es: 3:45 PM\n"
          ]
        }
      ]
    },
    {
      "cell_type": "markdown",
      "source": [
        "##9.Crear el programa que solicite el nombre y el código de n estudiantes. Dependiendo del código, clasifique la carrera del estudiante y que luego lo imprima, junto con el nombre de la institución educativa perteneciente."
      ],
      "metadata": {
        "id": "03wnllrXjbRm"
      }
    },
    {
      "cell_type": "code",
      "source": [
        "nombre_institucion = \"UNIVERSIDAD AUTÓNOMA DE BUCARAMANGA\"\n",
        "carreras = {\"0001\": \"Telecomunicaciones\", \"0002\": \"Financiera\", \"0003\": \"Mecatrónica\", \"0004\": \"Industrial\"}\n",
        "n = int(input(\"Introduce el número de estudiantes: \"))\n",
        "\n",
        "for _ in range(n):\n",
        "    nombre_estudiante = input(\"Introduce el nombre del estudiante: \")\n",
        "    codigo = input(\"Introduce el código del estudiante (debe empezar con 'U'): \")\n",
        "\n",
        "    if len(codigo) >= 5 and codigo[0] == 'U':\n",
        "        codigo_carrera = codigo[1:5]\n",
        "\n",
        "        if codigo_carrera in carreras:\n",
        "            carrera = carreras[codigo_carrera]\n",
        "        else:\n",
        "            carrera = \"Carrera no reconocida\"\n",
        "\n",
        "        print(f\"\\nNombre del Estudiante: {nombre_estudiante}\")\n",
        "        print(f\"Carrera: {carrera}\")\n",
        "        print(f\"Institución Educativa: {nombre_institucion}\\n\")\n",
        "    else:\n",
        "        print(\"Código inválido. Asegúrate de que comience con 'U' y tenga al menos 5 caracteres.\\n\")\n"
      ],
      "metadata": {
        "colab": {
          "base_uri": "https://localhost:8080/"
        },
        "id": "847conTRj-p_",
        "outputId": "acd18015-a3cb-4f20-c000-5feca1a490f9"
      },
      "execution_count": 12,
      "outputs": [
        {
          "output_type": "stream",
          "name": "stdout",
          "text": [
            "Introduce el número de estudiantes: 2\n",
            "Introduce el nombre del estudiante: Kevin\n",
            "Introduce el código del estudiante (debe empezar con 'U'): U00179947\n",
            "\n",
            "Nombre del Estudiante: Kevin\n",
            "Carrera: Carrera no reconocida\n",
            "Institución Educativa: UNIVERSIDAD AUTÓNOMA DE BUCARAMANGA\n",
            "\n",
            "Introduce el nombre del estudiante: Michelle\n",
            "Introduce el código del estudiante (debe empezar con 'U'): U0002\n",
            "\n",
            "Nombre del Estudiante: Michelle\n",
            "Carrera: Financiera\n",
            "Institución Educativa: UNIVERSIDAD AUTÓNOMA DE BUCARAMANGA\n",
            "\n"
          ]
        }
      ]
    },
    {
      "cell_type": "markdown",
      "source": [
        "##10.Diseñe un algoritmo que ejecute las funciones trigonométricas sen(x), cos(x) y tan(x) sujetas a la selección de las opciones asociadas así: Opción 1 para la función seno, opción 2 para la función coseno y opción 3 para el cálculo de la tangente, siendo el valor de x un argumento de entrada dado en grados."
      ],
      "metadata": {
        "id": "cG7tzoGBlT8Y"
      }
    },
    {
      "cell_type": "code",
      "source": [
        "import math\n",
        "\n",
        "print(\"Seleccione la función trigonométrica que desea calcular:\")\n",
        "print(\"1. Seno\")\n",
        "print(\"2. Coseno\")\n",
        "print(\"3. Tangente\")\n",
        "\n",
        "opcion = int(input(\"Introduce el número de la opción (1, 2 o 3): \"))\n",
        "x_grados = float(input(\"Introduce el valor de x en grados: \"))\n",
        "x_radianes = math.radians(x_grados)\n",
        "\n",
        "if opcion == 1:\n",
        "    resultado = math.sin(x_radianes)\n",
        "    funcion = \"seno\"\n",
        "elif opcion == 2:\n",
        "    resultado = math.cos(x_radianes)\n",
        "    funcion = \"coseno\"\n",
        "elif opcion == 3:\n",
        "    resultado = math.tan(x_radianes)\n",
        "    funcion = \"tangente\"\n",
        "else:\n",
        "    resultado = None\n",
        "    funcion = None\n",
        "    print(\"Opción no válida. Por favor, elige 1, 2 o 3.\")\n",
        "\n",
        "if resultado is not None:\n",
        "    print(f\"El valor de la {funcion} de {x_grados} grados es: {resultado:.4f}\")\n"
      ],
      "metadata": {
        "colab": {
          "base_uri": "https://localhost:8080/"
        },
        "id": "N2oR1vtRldxo",
        "outputId": "5fc0d986-e027-42ad-a2da-7b2cebef931d"
      },
      "execution_count": 14,
      "outputs": [
        {
          "output_type": "stream",
          "name": "stdout",
          "text": [
            "Seleccione la función trigonométrica que desea calcular:\n",
            "1. Seno\n",
            "2. Coseno\n",
            "3. Tangente\n",
            "Introduce el número de la opción (1, 2 o 3): 3\n",
            "Introduce el valor de x en grados: 72\n",
            "El valor de la tangente de 72.0 grados es: 3.0777\n"
          ]
        }
      ]
    }
  ]
}