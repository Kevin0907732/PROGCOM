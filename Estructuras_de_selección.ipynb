{
  "nbformat": 4,
  "nbformat_minor": 0,
  "metadata": {
    "colab": {
      "provenance": []
    },
    "kernelspec": {
      "name": "python3",
      "display_name": "Python 3"
    },
    "language_info": {
      "name": "python"
    }
  },
  "cells": [
    {
      "cell_type": "markdown",
      "source": [
        "Hacer un programa que te pregunte si quieres helado. Si la respuesta es si que sabor de helado."
      ],
      "metadata": {
        "id": "zy7xsiBpPrfD"
      }
    },
    {
      "cell_type": "code",
      "source": [
        "a=input(\"Quieres helado?\")\n",
        "a=a[0].lower()\n",
        "if a=\"s\":\n",
        "  f=input(\"Qué sabor quieres?\")\n",
        "  if f==\"chocolate\": print(f\"Aquí está su helado de {f}. Me debe 5000\")\n",
        "  elif f==\"vainilla\": print(f\"Aquí está su helado de {f}. Me debe 4000\")\n",
        "  elif f==\"fresa\": print(f\"Aquí está su helado de {f}. Me debe 1000\")\n",
        "  elif f==\"Ron con pasas\":print(f\"Aquí está su helado de {f}. Me debe 7000\")\n",
        "  else:print(\"Lo siento, no tenemos ese sabor\")\n",
        "else:\n",
        "  print(\"Ta bueno\")\n",
        ""
      ],
      "metadata": {
        "id": "1Q09BEGWP857"
      },
      "execution_count": null,
      "outputs": []
    },
    {
      "cell_type": "code",
      "source": [
        "#1.Decir si una letra es vocal mayúscula o minúscula\n",
        "#2.Decir si un día es fin de semana o si es entre semana\n",
        "#3.Desarrolle un clasificador de animales: Debe identificar si el animal es ave, mamífero o reptil. Pruébelo con los siguientes animales: águila, loro, león, tigre, cocodrilo, pitón.\n",
        "#4.Desarrolle un programa que le pregunte qué lenguaje de programación desea aprender, y que escriba un pequeño mensaje sobre cada uno de esos programas."
      ],
      "metadata": {
        "id": "Ry1pGDatUQHp"
      },
      "execution_count": null,
      "outputs": []
    },
    {
      "cell_type": "code",
      "source": [
        "#1.\n",
        "letra = input(\"Introduce una letra: \")\n",
        "if len(letra) != 1:\n",
        "    print(\"Debes ingresar solo una letra.\")\n",
        "else:\n",
        "    letra = letra[0]\n",
        "\n",
        "    if letra == 'A' or letra == 'E' or letra == 'I' or letra == 'O' or letra == 'U':\n",
        "        print(\"La letra es una vocal mayúscula.\")\n",
        "    elif letra == 'a' or letra == 'e' or letra == 'i' or letra == 'o' or letra == 'u':\n",
        "        print(\"La letra es una vocal minúscula.\")\n",
        "    else:\n",
        "        print(\"La letra no es una vocal.\")"
      ],
      "metadata": {
        "id": "3QfTe-_9VkL_"
      },
      "execution_count": null,
      "outputs": []
    },
    {
      "cell_type": "code",
      "source": [
        "#2.elif\n",
        "semana={1:\"Lunes\", 2:\"Martes\", 3:\"Miercoles\", 4:\"Jueves\", 5:\"Viernes\", 6:\"Sabado\", 7:\"Domingo\"}\n",
        "dia=int(input(\"Entre el número del día:\"))\n",
        "if dia in semana:\n",
        " if dia==6 or dia==7: print(\"Ese día es fin de semana\")\n",
        " elif 7>=dia>=1: print(\"Ese día es entre semana\")\n",
        "else: print(\"Ingresaste un número mayor a 7 o menor que 1\")\n"
      ],
      "metadata": {
        "colab": {
          "base_uri": "https://localhost:8080/"
        },
        "id": "Hi50xq45VweG",
        "outputId": "4d32905b-59fd-4f44-8271-3c67ec3161c1"
      },
      "execution_count": 8,
      "outputs": [
        {
          "output_type": "stream",
          "name": "stdout",
          "text": [
            "Entre el número del día:5\n",
            "Ese día es entre semana\n"
          ]
        }
      ]
    },
    {
      "cell_type": "code",
      "source": [
        "#Match\n",
        "semana = {1: \"Lunes\", 2: \"Martes\", 3: \"Miercoles\", 4: \"Jueves\", 5: \"Viernes\", 6: \"Sabado\", 7: \"Domingo\"}\n",
        "dia = int(input(\"Entre el número del día: \"))\n",
        "match dia:\n",
        "    case 6 | 7:\n",
        "        print(\"Ese día es fin de semana\")\n",
        "    case 1 | 2 | 3 | 4 | 5:\n",
        "        print(\"Ese día es entre semana\")\n",
        "    case _:\n",
        "        print(\"Ingresaste un número mayor a 7 o menor que 1\")"
      ],
      "metadata": {
        "colab": {
          "base_uri": "https://localhost:8080/"
        },
        "id": "AyVIZh5dXnx9",
        "outputId": "08367dc4-0a9a-4b0e-bbf0-aa62c454b274"
      },
      "execution_count": 10,
      "outputs": [
        {
          "output_type": "stream",
          "name": "stdout",
          "text": [
            "Entre el número del día: 7\n",
            "Ese día es fin de semana\n"
          ]
        }
      ]
    },
    {
      "cell_type": "markdown",
      "source": [
        "#Ejercicios 2"
      ],
      "metadata": {
        "id": "yAGqCPnFY78V"
      }
    },
    {
      "cell_type": "code",
      "source": [
        "#1.\n",
        "numeros = []\n",
        "for i in range(5):\n",
        "    while True:\n",
        "        try:\n",
        "            num = float(input(f\"Introduce el número {i + 1}: \"))\n",
        "            if num in numeros:\n",
        "                print(\"El número debe ser diferente de los anteriores. Inténtalo de nuevo.\")\n",
        "            else:\n",
        "                numeros.append(num)\n",
        "                break\n",
        "        except ValueError:\n",
        "            print(\"Por favor, introduce un número válido.\")\n",
        "\n",
        "# Determinar el número mayor entre los cinco números\n",
        "mayor = numeros[0]\n",
        "for num in numeros:\n",
        "    if num > mayor:\n",
        "        mayor = num\n",
        "\n",
        "print(f\"El número mayor es: {mayor}\")\n",
        "\n"
      ],
      "metadata": {
        "id": "lA22X2e1Y9_U"
      },
      "execution_count": null,
      "outputs": []
    },
    {
      "cell_type": "code",
      "source": [
        "#3 Match\n",
        "letra = input(\"Introduce una letra: \")\n",
        "\n",
        "match letra:\n",
        "    case 'A' | 'E' | 'I' | 'O' | 'U':  # Vocales mayúsculas\n",
        "        print(\"La letra es una vocal mayúscula.\")\n",
        "    case 'a' | 'e' | 'i' | 'o' | 'u':  # Vocales minúsculas\n",
        "        print(\"La letra es una vocal minúscula.\")\n",
        "    case _:\n",
        "        print(\"La letra no es una vocal.\")\n",
        "\n"
      ],
      "metadata": {
        "colab": {
          "base_uri": "https://localhost:8080/"
        },
        "id": "MgOagNVXhQgF",
        "outputId": "dab981d4-210d-4d9d-f994-1655f4362b2e"
      },
      "execution_count": 18,
      "outputs": [
        {
          "output_type": "stream",
          "name": "stdout",
          "text": [
            "Introduce una letra: r\n",
            "La letra no es una vocal.\n"
          ]
        }
      ]
    },
    {
      "cell_type": "code",
      "source": [
        "#3 Elif\n",
        "letra = input(\"Introduce una letra: \")\n",
        "\n",
        "if len(letra) != 1:\n",
        "    print(\"Introduce solo una letra.\")\n",
        "elif letra in 'AEIOU':\n",
        "    print(\"La letra es una vocal mayúscula.\")\n",
        "elif letra in 'aeiou':\n",
        "    print(\"La letra es una vocal minúscula.\")\n",
        "else:\n",
        "    print(\"La letra no es una vocal.\")\n"
      ],
      "metadata": {
        "colab": {
          "base_uri": "https://localhost:8080/"
        },
        "id": "FZED8LeshoRu",
        "outputId": "4a22975e-bafd-45d4-c303-7450b6b1c52e"
      },
      "execution_count": 19,
      "outputs": [
        {
          "output_type": "stream",
          "name": "stdout",
          "text": [
            "Introduce una letra: O\n",
            "La letra es una vocal mayúscula.\n"
          ]
        }
      ]
    },
    {
      "cell_type": "code",
      "source": [
        "#4 elif\n",
        "numero = int(input(\"Introduce un número del 0 al 9: \"))\n",
        "\n",
        "if 0 <= numero <= 9:\n",
        "    if numero % 2 == 0:\n",
        "        print(f\"El número {numero} es par.\")\n",
        "    elif numero % 2 !=0:\n",
        "        print(f\"El número {numero} es impar.\")\n",
        "else:\n",
        "    print(\"El número no pertenece al rango del 0 al 9.\")"
      ],
      "metadata": {
        "colab": {
          "base_uri": "https://localhost:8080/"
        },
        "id": "AgF3uSCCbJTD",
        "outputId": "6c402518-7998-4133-a58e-48d9ae48eaf9"
      },
      "execution_count": 12,
      "outputs": [
        {
          "output_type": "stream",
          "name": "stdout",
          "text": [
            "Introduce un número del 0 al 9: 4\n",
            "El número 4 es par.\n"
          ]
        }
      ]
    },
    {
      "cell_type": "code",
      "source": [
        "#4 Match\n",
        "numero = int(input(\"Introduce un número del 0 al 9: \"))\n",
        "\n",
        "match numero:\n",
        "    case _ if 0 <= numero <= 9:\n",
        "        match numero % 2:\n",
        "            case 0:\n",
        "                print(f\"El número {numero} es par.\")\n",
        "            case 1:\n",
        "                print(f\"El número {numero} es impar.\")\n",
        "    case _:\n",
        "        print(\"El número no pertenece al rango del 0 al 9.\")"
      ],
      "metadata": {
        "colab": {
          "base_uri": "https://localhost:8080/"
        },
        "id": "1maO6vXIcGmy",
        "outputId": "8cfd06a2-b95f-4a53-85f3-37dd2aa61465"
      },
      "execution_count": 17,
      "outputs": [
        {
          "output_type": "stream",
          "name": "stdout",
          "text": [
            "Introduce un número del 0 al 9: 5\n",
            "El número 5 es impar.\n"
          ]
        }
      ]
    }
  ]
}